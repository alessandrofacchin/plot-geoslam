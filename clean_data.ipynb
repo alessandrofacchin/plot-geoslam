{
 "cells": [
  {
   "cell_type": "code",
   "execution_count": 13,
   "id": "minute-orleans",
   "metadata": {},
   "outputs": [],
   "source": [
    "import pandas as pd\n",
    "from datetime import datetime\n",
    "import matplotlib.pyplot as plt\n",
    "from numpy.random import rand\n",
    "import numpy as np"
   ]
  },
  {
   "cell_type": "code",
   "execution_count": 14,
   "metadata": {},
   "outputs": [],
   "source": [
    "TRAJ_NAME = 'data/results_traj.txt'\n",
    "CLOUD_NAME = 'data/2021-02-05_16-40-57_100pct_shade_world.txt'\n",
    "\n",
    "with open(TRAJ_NAME, 'r') as fp:\n",
    "    traj_lines = fp.readlines()\n",
    "\n",
    "with open('data/traj.csv', 'w') as fp:\n",
    "    fp.writelines([x.replace(' ', ',').replace('%', '') for x in traj_lines])\n",
    "\n",
    "with open(CLOUD_NAME, 'r') as fp:\n",
    "    cloud_lines = fp.readlines()\n",
    "\n",
    "with open('data/cloud.csv', 'w') as fp:\n",
    "    fp.writelines([x.replace(' ', ',').replace('//', '') for x in cloud_lines])"
   ]
  },
  {
   "cell_type": "code",
   "execution_count": 15,
   "metadata": {},
   "outputs": [],
   "source": [
    "import math\n",
    " \n",
    "def euler_from_quaternion(x, y, z, w):\n",
    "    \"\"\"\n",
    "    Convert a quaternion into euler angles (roll, pitch, yaw)\n",
    "    roll is rotation around x in radians (counterclockwise)\n",
    "    pitch is rotation around y in radians (counterclockwise)\n",
    "    yaw is rotation around z in radians (counterclockwise)\n",
    "    \"\"\"\n",
    "    t0 = +2.0 * (w * x + y * z)\n",
    "    t1 = +1.0 - 2.0 * (x * x + y * y)\n",
    "    roll_x = math.atan2(t0, t1)\n",
    "    \n",
    "    t2 = +2.0 * (w * y - z * x)\n",
    "    t2 = +1.0 if t2 > +1.0 else t2\n",
    "    t2 = -1.0 if t2 < -1.0 else t2\n",
    "    pitch_y = math.asin(t2)\n",
    "    \n",
    "    t3 = +2.0 * (w * z + x * y)\n",
    "    t4 = +1.0 - 2.0 * (y * y + z * z)\n",
    "    yaw_z = math.atan2(t3, t4)\n",
    "    \n",
    "    return roll_x, pitch_y, yaw_z # in radians"
   ]
  },
  {
   "cell_type": "code",
   "execution_count": 16,
   "metadata": {},
   "outputs": [
    {
     "output_type": "execute_result",
     "data": {
      "text/plain": [
       "           time       x       y       z   r   g   b\n",
       "0  1.612543e+09  0.4383 -2.6296  0.7257   5   5   5\n",
       "1  1.612543e+09  0.5088 -1.8284  0.4815   9   9   9\n",
       "2  1.612543e+09  0.4385 -2.6154  0.7320   8   8   8\n",
       "3  1.612543e+09  0.4800 -1.9896  0.5415  14  14  14\n",
       "4  1.612543e+09  0.5104 -1.8265  0.4880   9   9   9\n",
       "5  1.612543e+09  0.4448 -2.6355  0.7471   4   4   4\n",
       "6  1.612543e+09  0.4817 -1.9875  0.5485  11  11  11\n",
       "7  1.612543e+09  0.5120 -1.8245  0.4946   7   7   7\n",
       "8  1.612543e+09  0.5444 -1.7024  0.4522   4   4   4\n",
       "9  1.612543e+09  0.4423 -2.6060  0.7494   4   4   4"
      ],
      "text/html": "<div>\n<style scoped>\n    .dataframe tbody tr th:only-of-type {\n        vertical-align: middle;\n    }\n\n    .dataframe tbody tr th {\n        vertical-align: top;\n    }\n\n    .dataframe thead th {\n        text-align: right;\n    }\n</style>\n<table border=\"1\" class=\"dataframe\">\n  <thead>\n    <tr style=\"text-align: right;\">\n      <th></th>\n      <th>time</th>\n      <th>x</th>\n      <th>y</th>\n      <th>z</th>\n      <th>r</th>\n      <th>g</th>\n      <th>b</th>\n    </tr>\n  </thead>\n  <tbody>\n    <tr>\n      <th>0</th>\n      <td>1.612543e+09</td>\n      <td>0.4383</td>\n      <td>-2.6296</td>\n      <td>0.7257</td>\n      <td>5</td>\n      <td>5</td>\n      <td>5</td>\n    </tr>\n    <tr>\n      <th>1</th>\n      <td>1.612543e+09</td>\n      <td>0.5088</td>\n      <td>-1.8284</td>\n      <td>0.4815</td>\n      <td>9</td>\n      <td>9</td>\n      <td>9</td>\n    </tr>\n    <tr>\n      <th>2</th>\n      <td>1.612543e+09</td>\n      <td>0.4385</td>\n      <td>-2.6154</td>\n      <td>0.7320</td>\n      <td>8</td>\n      <td>8</td>\n      <td>8</td>\n    </tr>\n    <tr>\n      <th>3</th>\n      <td>1.612543e+09</td>\n      <td>0.4800</td>\n      <td>-1.9896</td>\n      <td>0.5415</td>\n      <td>14</td>\n      <td>14</td>\n      <td>14</td>\n    </tr>\n    <tr>\n      <th>4</th>\n      <td>1.612543e+09</td>\n      <td>0.5104</td>\n      <td>-1.8265</td>\n      <td>0.4880</td>\n      <td>9</td>\n      <td>9</td>\n      <td>9</td>\n    </tr>\n    <tr>\n      <th>5</th>\n      <td>1.612543e+09</td>\n      <td>0.4448</td>\n      <td>-2.6355</td>\n      <td>0.7471</td>\n      <td>4</td>\n      <td>4</td>\n      <td>4</td>\n    </tr>\n    <tr>\n      <th>6</th>\n      <td>1.612543e+09</td>\n      <td>0.4817</td>\n      <td>-1.9875</td>\n      <td>0.5485</td>\n      <td>11</td>\n      <td>11</td>\n      <td>11</td>\n    </tr>\n    <tr>\n      <th>7</th>\n      <td>1.612543e+09</td>\n      <td>0.5120</td>\n      <td>-1.8245</td>\n      <td>0.4946</td>\n      <td>7</td>\n      <td>7</td>\n      <td>7</td>\n    </tr>\n    <tr>\n      <th>8</th>\n      <td>1.612543e+09</td>\n      <td>0.5444</td>\n      <td>-1.7024</td>\n      <td>0.4522</td>\n      <td>4</td>\n      <td>4</td>\n      <td>4</td>\n    </tr>\n    <tr>\n      <th>9</th>\n      <td>1.612543e+09</td>\n      <td>0.4423</td>\n      <td>-2.6060</td>\n      <td>0.7494</td>\n      <td>4</td>\n      <td>4</td>\n      <td>4</td>\n    </tr>\n  </tbody>\n</table>\n</div>"
     },
     "metadata": {},
     "execution_count": 16
    }
   ],
   "source": [
    "df_cloud = pd.read_csv('data/cloud.csv')\n",
    "df_cloud.iloc[:10,:]"
   ]
  },
  {
   "cell_type": "code",
   "execution_count": 17,
   "metadata": {},
   "outputs": [
    {
     "output_type": "execute_result",
     "data": {
      "text/plain": [
       "[]"
      ]
     },
     "metadata": {},
     "execution_count": 17
    },
    {
     "output_type": "display_data",
     "data": {
      "text/plain": "<Figure size 432x288 with 1 Axes>",
      "image/svg+xml": "<?xml version=\"1.0\" encoding=\"utf-8\" standalone=\"no\"?>\n<!DOCTYPE svg PUBLIC \"-//W3C//DTD SVG 1.1//EN\"\n  \"http://www.w3.org/Graphics/SVG/1.1/DTD/svg11.dtd\">\n<!-- Created with matplotlib (https://matplotlib.org/) -->\n<svg height=\"248.518125pt\" version=\"1.1\" viewBox=\"0 0 370.942187 248.518125\" width=\"370.942187pt\" xmlns=\"http://www.w3.org/2000/svg\" xmlns:xlink=\"http://www.w3.org/1999/xlink\">\n <metadata>\n  <rdf:RDF xmlns:cc=\"http://creativecommons.org/ns#\" xmlns:dc=\"http://purl.org/dc/elements/1.1/\" xmlns:rdf=\"http://www.w3.org/1999/02/22-rdf-syntax-ns#\">\n   <cc:Work>\n    <dc:type rdf:resource=\"http://purl.org/dc/dcmitype/StillImage\"/>\n    <dc:date>2021-02-06T19:11:24.333678</dc:date>\n    <dc:format>image/svg+xml</dc:format>\n    <dc:creator>\n     <cc:Agent>\n      <dc:title>Matplotlib v3.3.4, https://matplotlib.org/</dc:title>\n     </cc:Agent>\n    </dc:creator>\n   </cc:Work>\n  </rdf:RDF>\n </metadata>\n <defs>\n  <style type=\"text/css\">*{stroke-linecap:butt;stroke-linejoin:round;}</style>\n </defs>\n <g id=\"figure_1\">\n  <g id=\"patch_1\">\n   <path d=\"M 0 248.518125 \nL 370.942187 248.518125 \nL 370.942187 0 \nL 0 0 \nz\n\" style=\"fill:none;\"/>\n  </g>\n  <g id=\"axes_1\">\n   <g id=\"patch_2\">\n    <path d=\"M 28.942188 224.64 \nL 363.742188 224.64 \nL 363.742188 7.2 \nL 28.942188 7.2 \nz\n\" style=\"fill:#ffffff;\"/>\n   </g>\n   <g id=\"PathCollection_1\">\n    <defs>\n     <path d=\"M 0 0.158114 \nC 0.041932 0.158114 0.082153 0.141454 0.111803 0.111803 \nC 0.141454 0.082153 0.158114 0.041932 0.158114 0 \nC 0.158114 -0.041932 0.141454 -0.082153 0.111803 -0.111803 \nC 0.082153 -0.141454 0.041932 -0.158114 0 -0.158114 \nC -0.041932 -0.158114 -0.082153 -0.141454 -0.111803 -0.111803 \nC -0.141454 -0.082153 -0.158114 -0.041932 -0.158114 0 \nC -0.158114 0.041932 -0.141454 0.082153 -0.111803 0.111803 \nC -0.082153 0.141454 -0.041932 0.158114 0 0.158114 \nz\n\" id=\"m4de4ff5e16\" style=\"stroke:#1f77b4;\"/>\n    </defs>\n    <g clip-path=\"url(#p82f11a0fba)\">\n     <use style=\"fill:#1f77b4;stroke:#1f77b4;\" x=\"162.125538\" xlink:href=\"#m4de4ff5e16\" y=\"139.510666\"/>\n     <use style=\"fill:#1f77b4;stroke:#1f77b4;\" x=\"113.405193\" xlink:href=\"#m4de4ff5e16\" y=\"123.135258\"/>\n     <use style=\"fill:#1f77b4;stroke:#1f77b4;\" x=\"130.243813\" xlink:href=\"#m4de4ff5e16\" y=\"139.474453\"/>\n     <use style=\"fill:#1f77b4;stroke:#1f77b4;\" x=\"124.756173\" xlink:href=\"#m4de4ff5e16\" y=\"134.628069\"/>\n     <use style=\"fill:#1f77b4;stroke:#1f77b4;\" x=\"132.736412\" xlink:href=\"#m4de4ff5e16\" y=\"162.390669\"/>\n     <use style=\"fill:#1f77b4;stroke:#1f77b4;\" x=\"115.985304\" xlink:href=\"#m4de4ff5e16\" y=\"177.972428\"/>\n     <use style=\"fill:#1f77b4;stroke:#1f77b4;\" x=\"104.2375\" xlink:href=\"#m4de4ff5e16\" y=\"125.045446\"/>\n     <use style=\"fill:#1f77b4;stroke:#1f77b4;\" x=\"124.523812\" xlink:href=\"#m4de4ff5e16\" y=\"186.053759\"/>\n     <use style=\"fill:#1f77b4;stroke:#1f77b4;\" x=\"55.47189\" xlink:href=\"#m4de4ff5e16\" y=\"144.83686\"/>\n     <use style=\"fill:#1f77b4;stroke:#1f77b4;\" x=\"126.67994\" xlink:href=\"#m4de4ff5e16\" y=\"162.036092\"/>\n     <use style=\"fill:#1f77b4;stroke:#1f77b4;\" x=\"99.698918\" xlink:href=\"#m4de4ff5e16\" y=\"133.82235\"/>\n     <use style=\"fill:#1f77b4;stroke:#1f77b4;\" x=\"135.410071\" xlink:href=\"#m4de4ff5e16\" y=\"170.274342\"/>\n     <use style=\"fill:#1f77b4;stroke:#1f77b4;\" x=\"100.062548\" xlink:href=\"#m4de4ff5e16\" y=\"135.219533\"/>\n     <use style=\"fill:#1f77b4;stroke:#1f77b4;\" x=\"78.045599\" xlink:href=\"#m4de4ff5e16\" y=\"169.574242\"/>\n     <use style=\"fill:#1f77b4;stroke:#1f77b4;\" x=\"51.794854\" xlink:href=\"#m4de4ff5e16\" y=\"162.810126\"/>\n     <use style=\"fill:#1f77b4;stroke:#1f77b4;\" x=\"80.034247\" xlink:href=\"#m4de4ff5e16\" y=\"201.478599\"/>\n     <use style=\"fill:#1f77b4;stroke:#1f77b4;\" x=\"88.09898\" xlink:href=\"#m4de4ff5e16\" y=\"203.551741\"/>\n     <use style=\"fill:#1f77b4;stroke:#1f77b4;\" x=\"51.926123\" xlink:href=\"#m4de4ff5e16\" y=\"146.816454\"/>\n     <use style=\"fill:#1f77b4;stroke:#1f77b4;\" x=\"109.714578\" xlink:href=\"#m4de4ff5e16\" y=\"170.631936\"/>\n     <use style=\"fill:#1f77b4;stroke:#1f77b4;\" x=\"136.223334\" xlink:href=\"#m4de4ff5e16\" y=\"189.987296\"/>\n     <use style=\"fill:#1f77b4;stroke:#1f77b4;\" x=\"111.428617\" xlink:href=\"#m4de4ff5e16\" y=\"194.403662\"/>\n     <use style=\"fill:#1f77b4;stroke:#1f77b4;\" x=\"180.211966\" xlink:href=\"#m4de4ff5e16\" y=\"155.367033\"/>\n     <use style=\"fill:#1f77b4;stroke:#1f77b4;\" x=\"156.019275\" xlink:href=\"#m4de4ff5e16\" y=\"135.892475\"/>\n     <use style=\"fill:#1f77b4;stroke:#1f77b4;\" x=\"124.184324\" xlink:href=\"#m4de4ff5e16\" y=\"204.647156\"/>\n     <use style=\"fill:#1f77b4;stroke:#1f77b4;\" x=\"180.189334\" xlink:href=\"#m4de4ff5e16\" y=\"160.180223\"/>\n     <use style=\"fill:#1f77b4;stroke:#1f77b4;\" x=\"157.991325\" xlink:href=\"#m4de4ff5e16\" y=\"30.756717\"/>\n     <use style=\"fill:#1f77b4;stroke:#1f77b4;\" x=\"130.628567\" xlink:href=\"#m4de4ff5e16\" y=\"59.484972\"/>\n     <use style=\"fill:#1f77b4;stroke:#1f77b4;\" x=\"118.474885\" xlink:href=\"#m4de4ff5e16\" y=\"174.509647\"/>\n     <use style=\"fill:#1f77b4;stroke:#1f77b4;\" x=\"54.005301\" xlink:href=\"#m4de4ff5e16\" y=\"191.636455\"/>\n     <use style=\"fill:#1f77b4;stroke:#1f77b4;\" x=\"176.773327\" xlink:href=\"#m4de4ff5e16\" y=\"80.323519\"/>\n     <use style=\"fill:#1f77b4;stroke:#1f77b4;\" x=\"115.34254\" xlink:href=\"#m4de4ff5e16\" y=\"79.520818\"/>\n     <use style=\"fill:#1f77b4;stroke:#1f77b4;\" x=\"102.455563\" xlink:href=\"#m4de4ff5e16\" y=\"100.480072\"/>\n     <use style=\"fill:#1f77b4;stroke:#1f77b4;\" x=\"101.518576\" xlink:href=\"#m4de4ff5e16\" y=\"92.353476\"/>\n     <use style=\"fill:#1f77b4;stroke:#1f77b4;\" x=\"100.622327\" xlink:href=\"#m4de4ff5e16\" y=\"77.760005\"/>\n     <use style=\"fill:#1f77b4;stroke:#1f77b4;\" x=\"88.058241\" xlink:href=\"#m4de4ff5e16\" y=\"22.136731\"/>\n     <use style=\"fill:#1f77b4;stroke:#1f77b4;\" x=\"87.423021\" xlink:href=\"#m4de4ff5e16\" y=\"67.94653\"/>\n     <use style=\"fill:#1f77b4;stroke:#1f77b4;\" x=\"159.829088\" xlink:href=\"#m4de4ff5e16\" y=\"175.493409\"/>\n     <use style=\"fill:#1f77b4;stroke:#1f77b4;\" x=\"84.88214\" xlink:href=\"#m4de4ff5e16\" y=\"31.185226\"/>\n     <use style=\"fill:#1f77b4;stroke:#1f77b4;\" x=\"90.890328\" xlink:href=\"#m4de4ff5e16\" y=\"17.083636\"/>\n     <use style=\"fill:#1f77b4;stroke:#1f77b4;\" x=\"128.261202\" xlink:href=\"#m4de4ff5e16\" y=\"19.496267\"/>\n     <use style=\"fill:#1f77b4;stroke:#1f77b4;\" x=\"53.602441\" xlink:href=\"#m4de4ff5e16\" y=\"76.145549\"/>\n     <use style=\"fill:#1f77b4;stroke:#1f77b4;\" x=\"82.893493\" xlink:href=\"#m4de4ff5e16\" y=\"33.860394\"/>\n     <use style=\"fill:#1f77b4;stroke:#1f77b4;\" x=\"108.110684\" xlink:href=\"#m4de4ff5e16\" y=\"38.281287\"/>\n     <use style=\"fill:#1f77b4;stroke:#1f77b4;\" x=\"54.904567\" xlink:href=\"#m4de4ff5e16\" y=\"49.181125\"/>\n     <use style=\"fill:#1f77b4;stroke:#1f77b4;\" x=\"110.541421\" xlink:href=\"#m4de4ff5e16\" y=\"17.320524\"/>\n     <use style=\"fill:#1f77b4;stroke:#1f77b4;\" x=\"97.616723\" xlink:href=\"#m4de4ff5e16\" y=\"175.949078\"/>\n     <use style=\"fill:#1f77b4;stroke:#1f77b4;\" x=\"100.901461\" xlink:href=\"#m4de4ff5e16\" y=\"96.477127\"/>\n     <use style=\"fill:#1f77b4;stroke:#1f77b4;\" x=\"101.482364\" xlink:href=\"#m4de4ff5e16\" y=\"90.77825\"/>\n     <use style=\"fill:#1f77b4;stroke:#1f77b4;\" x=\"153.63833\" xlink:href=\"#m4de4ff5e16\" y=\"168.557285\"/>\n     <use style=\"fill:#1f77b4;stroke:#1f77b4;\" x=\"191.431678\" xlink:href=\"#m4de4ff5e16\" y=\"100.048544\"/>\n     <use style=\"fill:#1f77b4;stroke:#1f77b4;\" x=\"194.378436\" xlink:href=\"#m4de4ff5e16\" y=\"69.201882\"/>\n     <use style=\"fill:#1f77b4;stroke:#1f77b4;\" x=\"193.200035\" xlink:href=\"#m4de4ff5e16\" y=\"92.410812\"/>\n     <use style=\"fill:#1f77b4;stroke:#1f77b4;\" x=\"163.593636\" xlink:href=\"#m4de4ff5e16\" y=\"33.979592\"/>\n     <use style=\"fill:#1f77b4;stroke:#1f77b4;\" x=\"158.869468\" xlink:href=\"#m4de4ff5e16\" y=\"60.572843\"/>\n     <use style=\"fill:#1f77b4;stroke:#1f77b4;\" x=\"194.17927\" xlink:href=\"#m4de4ff5e16\" y=\"80.863683\"/>\n     <use style=\"fill:#1f77b4;stroke:#1f77b4;\" x=\"160.256089\" xlink:href=\"#m4de4ff5e16\" y=\"80.368784\"/>\n     <use style=\"fill:#1f77b4;stroke:#1f77b4;\" x=\"145.781816\" xlink:href=\"#m4de4ff5e16\" y=\"21.395892\"/>\n     <use style=\"fill:#1f77b4;stroke:#1f77b4;\" x=\"191.968824\" xlink:href=\"#m4de4ff5e16\" y=\"47.003873\"/>\n     <use style=\"fill:#1f77b4;stroke:#1f77b4;\" x=\"172.292081\" xlink:href=\"#m4de4ff5e16\" y=\"80.388399\"/>\n     <use style=\"fill:#1f77b4;stroke:#1f77b4;\" x=\"137.766874\" xlink:href=\"#m4de4ff5e16\" y=\"54.617464\"/>\n     <use style=\"fill:#1f77b4;stroke:#1f77b4;\" x=\"192.110654\" xlink:href=\"#m4de4ff5e16\" y=\"47.400697\"/>\n     <use style=\"fill:#1f77b4;stroke:#1f77b4;\" x=\"128.725923\" xlink:href=\"#m4de4ff5e16\" y=\"52.594114\"/>\n     <use style=\"fill:#1f77b4;stroke:#1f77b4;\" x=\"168.341946\" xlink:href=\"#m4de4ff5e16\" y=\"79.985539\"/>\n     <use style=\"fill:#1f77b4;stroke:#1f77b4;\" x=\"139.891317\" xlink:href=\"#m4de4ff5e16\" y=\"50.519463\"/>\n     <use style=\"fill:#1f77b4;stroke:#1f77b4;\" x=\"129.533151\" xlink:href=\"#m4de4ff5e16\" y=\"59.549852\"/>\n     <use style=\"fill:#1f77b4;stroke:#1f77b4;\" x=\"110.431275\" xlink:href=\"#m4de4ff5e16\" y=\"116.522026\"/>\n     <use style=\"fill:#1f77b4;stroke:#1f77b4;\" x=\"242.688377\" xlink:href=\"#m4de4ff5e16\" y=\"106.77343\"/>\n     <use style=\"fill:#1f77b4;stroke:#1f77b4;\" x=\"147.243879\" xlink:href=\"#m4de4ff5e16\" y=\"79.282421\"/>\n     <use style=\"fill:#1f77b4;stroke:#1f77b4;\" x=\"195.262615\" xlink:href=\"#m4de4ff5e16\" y=\"62.670127\"/>\n     <use style=\"fill:#1f77b4;stroke:#1f77b4;\" x=\"161.872053\" xlink:href=\"#m4de4ff5e16\" y=\"84.502997\"/>\n     <use style=\"fill:#1f77b4;stroke:#1f77b4;\" x=\"221.873972\" xlink:href=\"#m4de4ff5e16\" y=\"83.167677\"/>\n     <use style=\"fill:#1f77b4;stroke:#1f77b4;\" x=\"276.124204\" xlink:href=\"#m4de4ff5e16\" y=\"54.300608\"/>\n     <use style=\"fill:#1f77b4;stroke:#1f77b4;\" x=\"223.637802\" xlink:href=\"#m4de4ff5e16\" y=\"109.026124\"/>\n     <use style=\"fill:#1f77b4;stroke:#1f77b4;\" x=\"195.365216\" xlink:href=\"#m4de4ff5e16\" y=\"96.523901\"/>\n     <use style=\"fill:#1f77b4;stroke:#1f77b4;\" x=\"226.779201\" xlink:href=\"#m4de4ff5e16\" y=\"81.916851\"/>\n     <use style=\"fill:#1f77b4;stroke:#1f77b4;\" x=\"202.293795\" xlink:href=\"#m4de4ff5e16\" y=\"77.453711\"/>\n     <use style=\"fill:#1f77b4;stroke:#1f77b4;\" x=\"239.877414\" xlink:href=\"#m4de4ff5e16\" y=\"59.080604\"/>\n     <use style=\"fill:#1f77b4;stroke:#1f77b4;\" x=\"264.81698\" xlink:href=\"#m4de4ff5e16\" y=\"44.876413\"/>\n     <use style=\"fill:#1f77b4;stroke:#1f77b4;\" x=\"242.176882\" xlink:href=\"#m4de4ff5e16\" y=\"38.168124\"/>\n     <use style=\"fill:#1f77b4;stroke:#1f77b4;\" x=\"250.306495\" xlink:href=\"#m4de4ff5e16\" y=\"82.29406\"/>\n     <use style=\"fill:#1f77b4;stroke:#1f77b4;\" x=\"248.085487\" xlink:href=\"#m4de4ff5e16\" y=\"82.364975\"/>\n     <use style=\"fill:#1f77b4;stroke:#1f77b4;\" x=\"250.587139\" xlink:href=\"#m4de4ff5e16\" y=\"28.92348\"/>\n     <use style=\"fill:#1f77b4;stroke:#1f77b4;\" x=\"215.524786\" xlink:href=\"#m4de4ff5e16\" y=\"55.565014\"/>\n     <use style=\"fill:#1f77b4;stroke:#1f77b4;\" x=\"197.190908\" xlink:href=\"#m4de4ff5e16\" y=\"37.742632\"/>\n     <use style=\"fill:#1f77b4;stroke:#1f77b4;\" x=\"218.99662\" xlink:href=\"#m4de4ff5e16\" y=\"65.334733\"/>\n     <use style=\"fill:#1f77b4;stroke:#1f77b4;\" x=\"239.196929\" xlink:href=\"#m4de4ff5e16\" y=\"72.477567\"/>\n     <use style=\"fill:#1f77b4;stroke:#1f77b4;\" x=\"234.2917\" xlink:href=\"#m4de4ff5e16\" y=\"63.082039\"/>\n     <use style=\"fill:#1f77b4;stroke:#1f77b4;\" x=\"206.729775\" xlink:href=\"#m4de4ff5e16\" y=\"73.556385\"/>\n     <use style=\"fill:#1f77b4;stroke:#1f77b4;\" x=\"219.996979\" xlink:href=\"#m4de4ff5e16\" y=\"101.841043\"/>\n     <use style=\"fill:#1f77b4;stroke:#1f77b4;\" x=\"200.941877\" xlink:href=\"#m4de4ff5e16\" y=\"107.942779\"/>\n     <use style=\"fill:#1f77b4;stroke:#1f77b4;\" x=\"232.30607\" xlink:href=\"#m4de4ff5e16\" y=\"81.160923\"/>\n     <use style=\"fill:#1f77b4;stroke:#1f77b4;\" x=\"248.083978\" xlink:href=\"#m4de4ff5e16\" y=\"161.007065\"/>\n     <use style=\"fill:#1f77b4;stroke:#1f77b4;\" x=\"205.006684\" xlink:href=\"#m4de4ff5e16\" y=\"80.095685\"/>\n     <use style=\"fill:#1f77b4;stroke:#1f77b4;\" x=\"219.328564\" xlink:href=\"#m4de4ff5e16\" y=\"108.651932\"/>\n     <use style=\"fill:#1f77b4;stroke:#1f77b4;\" x=\"129.985802\" xlink:href=\"#m4de4ff5e16\" y=\"79.409164\"/>\n     <use style=\"fill:#1f77b4;stroke:#1f77b4;\" x=\"250.09224\" xlink:href=\"#m4de4ff5e16\" y=\"90.870289\"/>\n     <use style=\"fill:#1f77b4;stroke:#1f77b4;\" x=\"182.60649\" xlink:href=\"#m4de4ff5e16\" y=\"129.890321\"/>\n     <use style=\"fill:#1f77b4;stroke:#1f77b4;\" x=\"183.051597\" xlink:href=\"#m4de4ff5e16\" y=\"122.005139\"/>\n     <use style=\"fill:#1f77b4;stroke:#1f77b4;\" x=\"187.295956\" xlink:href=\"#m4de4ff5e16\" y=\"134.465115\"/>\n     <use style=\"fill:#1f77b4;stroke:#1f77b4;\" x=\"218.640534\" xlink:href=\"#m4de4ff5e16\" y=\"160.144011\"/>\n     <use style=\"fill:#1f77b4;stroke:#1f77b4;\" x=\"247.765614\" xlink:href=\"#m4de4ff5e16\" y=\"161.239426\"/>\n     <use style=\"fill:#1f77b4;stroke:#1f77b4;\" x=\"255.604022\" xlink:href=\"#m4de4ff5e16\" y=\"161.283183\"/>\n     <use style=\"fill:#1f77b4;stroke:#1f77b4;\" x=\"258.027214\" xlink:href=\"#m4de4ff5e16\" y=\"136.607663\"/>\n     <use style=\"fill:#1f77b4;stroke:#1f77b4;\" x=\"212.487497\" xlink:href=\"#m4de4ff5e16\" y=\"115.969792\"/>\n     <use style=\"fill:#1f77b4;stroke:#1f77b4;\" x=\"233.463348\" xlink:href=\"#m4de4ff5e16\" y=\"110.571173\"/>\n     <use style=\"fill:#1f77b4;stroke:#1f77b4;\" x=\"252.615016\" xlink:href=\"#m4de4ff5e16\" y=\"124.294045\"/>\n     <use style=\"fill:#1f77b4;stroke:#1f77b4;\" x=\"237.372745\" xlink:href=\"#m4de4ff5e16\" y=\"102.394786\"/>\n     <use style=\"fill:#1f77b4;stroke:#1f77b4;\" x=\"340.998157\" xlink:href=\"#m4de4ff5e16\" y=\"109.661344\"/>\n     <use style=\"fill:#1f77b4;stroke:#1f77b4;\" x=\"280.827249\" xlink:href=\"#m4de4ff5e16\" y=\"115.84154\"/>\n     <use style=\"fill:#1f77b4;stroke:#1f77b4;\" x=\"338.870697\" xlink:href=\"#m4de4ff5e16\" y=\"151.288647\"/>\n     <use style=\"fill:#1f77b4;stroke:#1f77b4;\" x=\"278.834075\" xlink:href=\"#m4de4ff5e16\" y=\"159.813575\"/>\n     <use style=\"fill:#1f77b4;stroke:#1f77b4;\" x=\"321.53416\" xlink:href=\"#m4de4ff5e16\" y=\"177.717434\"/>\n     <use style=\"fill:#1f77b4;stroke:#1f77b4;\" x=\"268.166598\" xlink:href=\"#m4de4ff5e16\" y=\"168.806244\"/>\n     <use style=\"fill:#1f77b4;stroke:#1f77b4;\" x=\"267.312596\" xlink:href=\"#m4de4ff5e16\" y=\"188.694223\"/>\n     <use style=\"fill:#1f77b4;stroke:#1f77b4;\" x=\"267.520816\" xlink:href=\"#m4de4ff5e16\" y=\"188.538813\"/>\n     <use style=\"fill:#1f77b4;stroke:#1f77b4;\" x=\"311.071885\" xlink:href=\"#m4de4ff5e16\" y=\"158.739283\"/>\n     <use style=\"fill:#1f77b4;stroke:#1f77b4;\" x=\"267.822583\" xlink:href=\"#m4de4ff5e16\" y=\"176.16635\"/>\n     <use style=\"fill:#1f77b4;stroke:#1f77b4;\" x=\"268.017223\" xlink:href=\"#m4de4ff5e16\" y=\"170.740572\"/>\n     <use style=\"fill:#1f77b4;stroke:#1f77b4;\" x=\"340.649616\" xlink:href=\"#m4de4ff5e16\" y=\"128.215512\"/>\n     <use style=\"fill:#1f77b4;stroke:#1f77b4;\" x=\"338.129858\" xlink:href=\"#m4de4ff5e16\" y=\"211.734163\"/>\n     <use style=\"fill:#1f77b4;stroke:#1f77b4;\" x=\"328.174552\" xlink:href=\"#m4de4ff5e16\" y=\"207.005468\"/>\n     <use style=\"fill:#1f77b4;stroke:#1f77b4;\" x=\"317.306399\" xlink:href=\"#m4de4ff5e16\" y=\"214.756364\"/>\n     <use style=\"fill:#1f77b4;stroke:#1f77b4;\" x=\"331.844043\" xlink:href=\"#m4de4ff5e16\" y=\"152.050609\"/>\n     <use style=\"fill:#1f77b4;stroke:#1f77b4;\" x=\"328.437089\" xlink:href=\"#m4de4ff5e16\" y=\"152.165281\"/>\n     <use style=\"fill:#1f77b4;stroke:#1f77b4;\" x=\"305.870924\" xlink:href=\"#m4de4ff5e16\" y=\"192.055912\"/>\n     <use style=\"fill:#1f77b4;stroke:#1f77b4;\" x=\"310.180162\" xlink:href=\"#m4de4ff5e16\" y=\"203.717713\"/>\n     <use style=\"fill:#1f77b4;stroke:#1f77b4;\" x=\"268.048909\" xlink:href=\"#m4de4ff5e16\" y=\"167.295898\"/>\n     <use style=\"fill:#1f77b4;stroke:#1f77b4;\" x=\"299.989478\" xlink:href=\"#m4de4ff5e16\" y=\"119.47482\"/>\n     <use style=\"fill:#1f77b4;stroke:#1f77b4;\" x=\"338.292812\" xlink:href=\"#m4de4ff5e16\" y=\"164.038319\"/>\n     <use style=\"fill:#1f77b4;stroke:#1f77b4;\" x=\"322.004917\" xlink:href=\"#m4de4ff5e16\" y=\"185.871189\"/>\n     <use style=\"fill:#1f77b4;stroke:#1f77b4;\" x=\"269.900251\" xlink:href=\"#m4de4ff5e16\" y=\"213.526662\"/>\n     <use style=\"fill:#1f77b4;stroke:#1f77b4;\" x=\"310.872719\" xlink:href=\"#m4de4ff5e16\" y=\"212.235097\"/>\n     <use style=\"fill:#1f77b4;stroke:#1f77b4;\" x=\"252.095976\" xlink:href=\"#m4de4ff5e16\" y=\"192.92802\"/>\n     <use style=\"fill:#1f77b4;stroke:#1f77b4;\" x=\"275.028788\" xlink:href=\"#m4de4ff5e16\" y=\"198.159157\"/>\n     <use style=\"fill:#1f77b4;stroke:#1f77b4;\" x=\"219.254631\" xlink:href=\"#m4de4ff5e16\" y=\"179.933916\"/>\n     <use style=\"fill:#1f77b4;stroke:#1f77b4;\" x=\"245.600433\" xlink:href=\"#m4de4ff5e16\" y=\"193.228278\"/>\n     <use style=\"fill:#1f77b4;stroke:#1f77b4;\" x=\"236.78279\" xlink:href=\"#m4de4ff5e16\" y=\"173.206012\"/>\n     <use style=\"fill:#1f77b4;stroke:#1f77b4;\" x=\"285.317547\" xlink:href=\"#m4de4ff5e16\" y=\"204.484202\"/>\n     <use style=\"fill:#1f77b4;stroke:#1f77b4;\" x=\"325.313797\" xlink:href=\"#m4de4ff5e16\" y=\"120.529497\"/>\n     <use style=\"fill:#1f77b4;stroke:#1f77b4;\" x=\"340.159244\" xlink:href=\"#m4de4ff5e16\" y=\"128.591213\"/>\n     <use style=\"fill:#1f77b4;stroke:#1f77b4;\" x=\"330.013824\" xlink:href=\"#m4de4ff5e16\" y=\"152.116998\"/>\n     <use style=\"fill:#1f77b4;stroke:#1f77b4;\" x=\"312.524895\" xlink:href=\"#m4de4ff5e16\" y=\"130.815238\"/>\n     <use style=\"fill:#1f77b4;stroke:#1f77b4;\" x=\"337.746613\" xlink:href=\"#m4de4ff5e16\" y=\"197.347403\"/>\n     <use style=\"fill:#1f77b4;stroke:#1f77b4;\" x=\"316.197404\" xlink:href=\"#m4de4ff5e16\" y=\"173.035513\"/>\n     <use style=\"fill:#1f77b4;stroke:#1f77b4;\" x=\"292.283847\" xlink:href=\"#m4de4ff5e16\" y=\"128.714937\"/>\n     <use style=\"fill:#1f77b4;stroke:#1f77b4;\" x=\"311.147327\" xlink:href=\"#m4de4ff5e16\" y=\"148.289079\"/>\n     <use style=\"fill:#1f77b4;stroke:#1f77b4;\" x=\"266.933878\" xlink:href=\"#m4de4ff5e16\" y=\"128.239654\"/>\n     <use style=\"fill:#1f77b4;stroke:#1f77b4;\" x=\"327.225493\" xlink:href=\"#m4de4ff5e16\" y=\"153.60622\"/>\n     <use style=\"fill:#1f77b4;stroke:#1f77b4;\" x=\"293.598044\" xlink:href=\"#m4de4ff5e16\" y=\"154.076977\"/>\n     <use style=\"fill:#1f77b4;stroke:#1f77b4;\" x=\"272.134839\" xlink:href=\"#m4de4ff5e16\" y=\"156.405113\"/>\n     <use style=\"fill:#1f77b4;stroke:#1f77b4;\" x=\"284.238729\" xlink:href=\"#m4de4ff5e16\" y=\"99.279037\"/>\n     <use style=\"fill:#1f77b4;stroke:#1f77b4;\" x=\"260.064143\" xlink:href=\"#m4de4ff5e16\" y=\"140.58194\"/>\n     <use style=\"fill:#1f77b4;stroke:#1f77b4;\" x=\"333.995645\" xlink:href=\"#m4de4ff5e16\" y=\"100.454421\"/>\n     <use style=\"fill:#1f77b4;stroke:#1f77b4;\" x=\"325.247408\" xlink:href=\"#m4de4ff5e16\" y=\"117.662707\"/>\n     <use style=\"fill:#1f77b4;stroke:#1f77b4;\" x=\"308.174918\" xlink:href=\"#m4de4ff5e16\" y=\"115.996951\"/>\n     <use style=\"fill:#1f77b4;stroke:#1f77b4;\" x=\"283.479784\" xlink:href=\"#m4de4ff5e16\" y=\"101.165084\"/>\n     <use style=\"fill:#1f77b4;stroke:#1f77b4;\" x=\"250.712372\" xlink:href=\"#m4de4ff5e16\" y=\"114.365898\"/>\n     <use style=\"fill:#1f77b4;stroke:#1f77b4;\" x=\"241.052798\" xlink:href=\"#m4de4ff5e16\" y=\"85.453565\"/>\n     <use style=\"fill:#1f77b4;stroke:#1f77b4;\" x=\"297.680957\" xlink:href=\"#m4de4ff5e16\" y=\"118.338666\"/>\n     <use style=\"fill:#1f77b4;stroke:#1f77b4;\" x=\"284.87244\" xlink:href=\"#m4de4ff5e16\" y=\"118.077637\"/>\n     <use style=\"fill:#1f77b4;stroke:#1f77b4;\" x=\"299.533809\" xlink:href=\"#m4de4ff5e16\" y=\"76.641957\"/>\n     <use style=\"fill:#1f77b4;stroke:#1f77b4;\" x=\"294.477696\" xlink:href=\"#m4de4ff5e16\" y=\"67.29773\"/>\n     <use style=\"fill:#1f77b4;stroke:#1f77b4;\" x=\"287.914256\" xlink:href=\"#m4de4ff5e16\" y=\"50.739753\"/>\n     <use style=\"fill:#1f77b4;stroke:#1f77b4;\" x=\"289.990415\" xlink:href=\"#m4de4ff5e16\" y=\"99.414833\"/>\n     <use style=\"fill:#1f77b4;stroke:#1f77b4;\" x=\"284.540496\" xlink:href=\"#m4de4ff5e16\" y=\"24.010707\"/>\n     <use style=\"fill:#1f77b4;stroke:#1f77b4;\" x=\"310.149986\" xlink:href=\"#m4de4ff5e16\" y=\"46.614593\"/>\n     <use style=\"fill:#1f77b4;stroke:#1f77b4;\" x=\"277.344853\" xlink:href=\"#m4de4ff5e16\" y=\"95.819274\"/>\n     <use style=\"fill:#1f77b4;stroke:#1f77b4;\" x=\"307.180595\" xlink:href=\"#m4de4ff5e16\" y=\"99.555155\"/>\n     <use style=\"fill:#1f77b4;stroke:#1f77b4;\" x=\"277.779398\" xlink:href=\"#m4de4ff5e16\" y=\"68.673789\"/>\n     <use style=\"fill:#1f77b4;stroke:#1f77b4;\" x=\"287.770916\" xlink:href=\"#m4de4ff5e16\" y=\"117.959948\"/>\n     <use style=\"fill:#1f77b4;stroke:#1f77b4;\" x=\"248.930436\" xlink:href=\"#m4de4ff5e16\" y=\"88.005008\"/>\n     <use style=\"fill:#1f77b4;stroke:#1f77b4;\" x=\"267.899534\" xlink:href=\"#m4de4ff5e16\" y=\"155.938882\"/>\n     <use style=\"fill:#1f77b4;stroke:#1f77b4;\" x=\"274.980505\" xlink:href=\"#m4de4ff5e16\" y=\"87.336593\"/>\n     <use style=\"fill:#1f77b4;stroke:#1f77b4;\" x=\"271.45888\" xlink:href=\"#m4de4ff5e16\" y=\"84.756482\"/>\n     <use style=\"fill:#1f77b4;stroke:#1f77b4;\" x=\"212.517674\" xlink:href=\"#m4de4ff5e16\" y=\"82.997178\"/>\n     <use style=\"fill:#1f77b4;stroke:#1f77b4;\" x=\"216.279204\" xlink:href=\"#m4de4ff5e16\" y=\"108.626282\"/>\n     <use style=\"fill:#1f77b4;stroke:#1f77b4;\" x=\"210.150309\" xlink:href=\"#m4de4ff5e16\" y=\"67.445596\"/>\n     <use style=\"fill:#1f77b4;stroke:#1f77b4;\" x=\"132.719815\" xlink:href=\"#m4de4ff5e16\" y=\"61.704471\"/>\n     <use style=\"fill:#1f77b4;stroke:#1f77b4;\" x=\"174.157004\" xlink:href=\"#m4de4ff5e16\" y=\"81.692034\"/>\n     <use style=\"fill:#1f77b4;stroke:#1f77b4;\" x=\"171.184595\" xlink:href=\"#m4de4ff5e16\" y=\"81.263524\"/>\n     <use style=\"fill:#1f77b4;stroke:#1f77b4;\" x=\"129.593505\" xlink:href=\"#m4de4ff5e16\" y=\"67.709642\"/>\n     <use style=\"fill:#1f77b4;stroke:#1f77b4;\" x=\"151.542556\" xlink:href=\"#m4de4ff5e16\" y=\"205.262762\"/>\n     <use style=\"fill:#1f77b4;stroke:#1f77b4;\" x=\"125.803306\" xlink:href=\"#m4de4ff5e16\" y=\"187.1024\"/>\n     <use style=\"fill:#1f77b4;stroke:#1f77b4;\" x=\"180.083715\" xlink:href=\"#m4de4ff5e16\" y=\"175.873636\"/>\n     <use style=\"fill:#1f77b4;stroke:#1f77b4;\" x=\"180.16821\" xlink:href=\"#m4de4ff5e16\" y=\"168.43507\"/>\n     <use style=\"fill:#1f77b4;stroke:#1f77b4;\" x=\"166.469479\" xlink:href=\"#m4de4ff5e16\" y=\"209.565965\"/>\n     <use style=\"fill:#1f77b4;stroke:#1f77b4;\" x=\"98.322859\" xlink:href=\"#m4de4ff5e16\" y=\"173.027969\"/>\n     <use style=\"fill:#1f77b4;stroke:#1f77b4;\" x=\"131.971432\" xlink:href=\"#m4de4ff5e16\" y=\"126.088052\"/>\n     <use style=\"fill:#1f77b4;stroke:#1f77b4;\" x=\"172.556128\" xlink:href=\"#m4de4ff5e16\" y=\"205.870823\"/>\n     <use style=\"fill:#1f77b4;stroke:#1f77b4;\" x=\"179.093918\" xlink:href=\"#m4de4ff5e16\" y=\"202.291862\"/>\n     <use style=\"fill:#1f77b4;stroke:#1f77b4;\" x=\"53.887611\" xlink:href=\"#m4de4ff5e16\" y=\"177.196886\"/>\n     <use style=\"fill:#1f77b4;stroke:#1f77b4;\" x=\"51.686218\" xlink:href=\"#m4de4ff5e16\" y=\"159.095369\"/>\n     <use style=\"fill:#1f77b4;stroke:#1f77b4;\" x=\"134.353885\" xlink:href=\"#m4de4ff5e16\" y=\"131.749208\"/>\n     <use style=\"fill:#1f77b4;stroke:#1f77b4;\" x=\"100.829037\" xlink:href=\"#m4de4ff5e16\" y=\"141.045153\"/>\n     <use style=\"fill:#1f77b4;stroke:#1f77b4;\" x=\"122.601554\" xlink:href=\"#m4de4ff5e16\" y=\"141.24281\"/>\n     <use style=\"fill:#1f77b4;stroke:#1f77b4;\" x=\"136.973226\" xlink:href=\"#m4de4ff5e16\" y=\"102.358574\"/>\n     <use style=\"fill:#1f77b4;stroke:#1f77b4;\" x=\"99.655162\" xlink:href=\"#m4de4ff5e16\" y=\"135.086756\"/>\n     <use style=\"fill:#1f77b4;stroke:#1f77b4;\" x=\"89.08425\" xlink:href=\"#m4de4ff5e16\" y=\"146.552408\"/>\n     <use style=\"fill:#1f77b4;stroke:#1f77b4;\" x=\"168.951516\" xlink:href=\"#m4de4ff5e16\" y=\"80.174144\"/>\n     <use style=\"fill:#1f77b4;stroke:#1f77b4;\" x=\"118.809847\" xlink:href=\"#m4de4ff5e16\" y=\"204.533993\"/>\n     <use style=\"fill:#1f77b4;stroke:#1f77b4;\" x=\"126.474739\" xlink:href=\"#m4de4ff5e16\" y=\"127.812653\"/>\n     <use style=\"fill:#1f77b4;stroke:#1f77b4;\" x=\"119.135756\" xlink:href=\"#m4de4ff5e16\" y=\"132.410079\"/>\n    </g>\n   </g>\n   <g id=\"matplotlib.axis_1\">\n    <g id=\"xtick_1\">\n     <g id=\"line2d_1\">\n      <defs>\n       <path d=\"M 0 0 \nL 0 3.5 \n\" id=\"m59d7fceeb9\" style=\"stroke:#000000;stroke-width:0.8;\"/>\n      </defs>\n      <g>\n       <use style=\"stroke:#000000;stroke-width:0.8;\" x=\"66.225371\" xlink:href=\"#m59d7fceeb9\" y=\"224.64\"/>\n      </g>\n     </g>\n     <g id=\"text_1\">\n      <!-- −5.0 -->\n      <g transform=\"translate(54.083965 239.238437)scale(0.1 -0.1)\">\n       <defs>\n        <path d=\"M 10.59375 35.5 \nL 73.1875 35.5 \nL 73.1875 27.203125 \nL 10.59375 27.203125 \nz\n\" id=\"DejaVuSans-8722\"/>\n        <path d=\"M 10.796875 72.90625 \nL 49.515625 72.90625 \nL 49.515625 64.59375 \nL 19.828125 64.59375 \nL 19.828125 46.734375 \nQ 21.96875 47.46875 24.109375 47.828125 \nQ 26.265625 48.1875 28.421875 48.1875 \nQ 40.625 48.1875 47.75 41.5 \nQ 54.890625 34.8125 54.890625 23.390625 \nQ 54.890625 11.625 47.5625 5.09375 \nQ 40.234375 -1.421875 26.90625 -1.421875 \nQ 22.3125 -1.421875 17.546875 -0.640625 \nQ 12.796875 0.140625 7.71875 1.703125 \nL 7.71875 11.625 \nQ 12.109375 9.234375 16.796875 8.0625 \nQ 21.484375 6.890625 26.703125 6.890625 \nQ 35.15625 6.890625 40.078125 11.328125 \nQ 45.015625 15.765625 45.015625 23.390625 \nQ 45.015625 31 40.078125 35.4375 \nQ 35.15625 39.890625 26.703125 39.890625 \nQ 22.75 39.890625 18.8125 39.015625 \nQ 14.890625 38.140625 10.796875 36.28125 \nz\n\" id=\"DejaVuSans-53\"/>\n        <path d=\"M 10.6875 12.40625 \nL 21 12.40625 \nL 21 0 \nL 10.6875 0 \nz\n\" id=\"DejaVuSans-46\"/>\n        <path d=\"M 31.78125 66.40625 \nQ 24.171875 66.40625 20.328125 58.90625 \nQ 16.5 51.421875 16.5 36.375 \nQ 16.5 21.390625 20.328125 13.890625 \nQ 24.171875 6.390625 31.78125 6.390625 \nQ 39.453125 6.390625 43.28125 13.890625 \nQ 47.125 21.390625 47.125 36.375 \nQ 47.125 51.421875 43.28125 58.90625 \nQ 39.453125 66.40625 31.78125 66.40625 \nz\nM 31.78125 74.21875 \nQ 44.046875 74.21875 50.515625 64.515625 \nQ 56.984375 54.828125 56.984375 36.375 \nQ 56.984375 17.96875 50.515625 8.265625 \nQ 44.046875 -1.421875 31.78125 -1.421875 \nQ 19.53125 -1.421875 13.0625 8.265625 \nQ 6.59375 17.96875 6.59375 36.375 \nQ 6.59375 54.828125 13.0625 64.515625 \nQ 19.53125 74.21875 31.78125 74.21875 \nz\n\" id=\"DejaVuSans-48\"/>\n       </defs>\n       <use xlink:href=\"#DejaVuSans-8722\"/>\n       <use x=\"83.789062\" xlink:href=\"#DejaVuSans-53\"/>\n       <use x=\"147.412109\" xlink:href=\"#DejaVuSans-46\"/>\n       <use x=\"179.199219\" xlink:href=\"#DejaVuSans-48\"/>\n      </g>\n     </g>\n    </g>\n    <g id=\"xtick_2\">\n     <g id=\"line2d_2\">\n      <g>\n       <use style=\"stroke:#000000;stroke-width:0.8;\" x=\"103.946294\" xlink:href=\"#m59d7fceeb9\" y=\"224.64\"/>\n      </g>\n     </g>\n     <g id=\"text_2\">\n      <!-- −2.5 -->\n      <g transform=\"translate(91.804888 239.238437)scale(0.1 -0.1)\">\n       <defs>\n        <path d=\"M 19.1875 8.296875 \nL 53.609375 8.296875 \nL 53.609375 0 \nL 7.328125 0 \nL 7.328125 8.296875 \nQ 12.9375 14.109375 22.625 23.890625 \nQ 32.328125 33.6875 34.8125 36.53125 \nQ 39.546875 41.84375 41.421875 45.53125 \nQ 43.3125 49.21875 43.3125 52.78125 \nQ 43.3125 58.59375 39.234375 62.25 \nQ 35.15625 65.921875 28.609375 65.921875 \nQ 23.96875 65.921875 18.8125 64.3125 \nQ 13.671875 62.703125 7.8125 59.421875 \nL 7.8125 69.390625 \nQ 13.765625 71.78125 18.9375 73 \nQ 24.125 74.21875 28.421875 74.21875 \nQ 39.75 74.21875 46.484375 68.546875 \nQ 53.21875 62.890625 53.21875 53.421875 \nQ 53.21875 48.921875 51.53125 44.890625 \nQ 49.859375 40.875 45.40625 35.40625 \nQ 44.1875 33.984375 37.640625 27.21875 \nQ 31.109375 20.453125 19.1875 8.296875 \nz\n\" id=\"DejaVuSans-50\"/>\n       </defs>\n       <use xlink:href=\"#DejaVuSans-8722\"/>\n       <use x=\"83.789062\" xlink:href=\"#DejaVuSans-50\"/>\n       <use x=\"147.412109\" xlink:href=\"#DejaVuSans-46\"/>\n       <use x=\"179.199219\" xlink:href=\"#DejaVuSans-53\"/>\n      </g>\n     </g>\n    </g>\n    <g id=\"xtick_3\">\n     <g id=\"line2d_3\">\n      <g>\n       <use style=\"stroke:#000000;stroke-width:0.8;\" x=\"141.667218\" xlink:href=\"#m59d7fceeb9\" y=\"224.64\"/>\n      </g>\n     </g>\n     <g id=\"text_3\">\n      <!-- 0.0 -->\n      <g transform=\"translate(133.715655 239.238437)scale(0.1 -0.1)\">\n       <use xlink:href=\"#DejaVuSans-48\"/>\n       <use x=\"63.623047\" xlink:href=\"#DejaVuSans-46\"/>\n       <use x=\"95.410156\" xlink:href=\"#DejaVuSans-48\"/>\n      </g>\n     </g>\n    </g>\n    <g id=\"xtick_4\">\n     <g id=\"line2d_4\">\n      <g>\n       <use style=\"stroke:#000000;stroke-width:0.8;\" x=\"179.388141\" xlink:href=\"#m59d7fceeb9\" y=\"224.64\"/>\n      </g>\n     </g>\n     <g id=\"text_4\">\n      <!-- 2.5 -->\n      <g transform=\"translate(171.436579 239.238437)scale(0.1 -0.1)\">\n       <use xlink:href=\"#DejaVuSans-50\"/>\n       <use x=\"63.623047\" xlink:href=\"#DejaVuSans-46\"/>\n       <use x=\"95.410156\" xlink:href=\"#DejaVuSans-53\"/>\n      </g>\n     </g>\n    </g>\n    <g id=\"xtick_5\">\n     <g id=\"line2d_5\">\n      <g>\n       <use style=\"stroke:#000000;stroke-width:0.8;\" x=\"217.109065\" xlink:href=\"#m59d7fceeb9\" y=\"224.64\"/>\n      </g>\n     </g>\n     <g id=\"text_5\">\n      <!-- 5.0 -->\n      <g transform=\"translate(209.157502 239.238437)scale(0.1 -0.1)\">\n       <use xlink:href=\"#DejaVuSans-53\"/>\n       <use x=\"63.623047\" xlink:href=\"#DejaVuSans-46\"/>\n       <use x=\"95.410156\" xlink:href=\"#DejaVuSans-48\"/>\n      </g>\n     </g>\n    </g>\n    <g id=\"xtick_6\">\n     <g id=\"line2d_6\">\n      <g>\n       <use style=\"stroke:#000000;stroke-width:0.8;\" x=\"254.829988\" xlink:href=\"#m59d7fceeb9\" y=\"224.64\"/>\n      </g>\n     </g>\n     <g id=\"text_6\">\n      <!-- 7.5 -->\n      <g transform=\"translate(246.878426 239.238437)scale(0.1 -0.1)\">\n       <defs>\n        <path d=\"M 8.203125 72.90625 \nL 55.078125 72.90625 \nL 55.078125 68.703125 \nL 28.609375 0 \nL 18.3125 0 \nL 43.21875 64.59375 \nL 8.203125 64.59375 \nz\n\" id=\"DejaVuSans-55\"/>\n       </defs>\n       <use xlink:href=\"#DejaVuSans-55\"/>\n       <use x=\"63.623047\" xlink:href=\"#DejaVuSans-46\"/>\n       <use x=\"95.410156\" xlink:href=\"#DejaVuSans-53\"/>\n      </g>\n     </g>\n    </g>\n    <g id=\"xtick_7\">\n     <g id=\"line2d_7\">\n      <g>\n       <use style=\"stroke:#000000;stroke-width:0.8;\" x=\"292.550912\" xlink:href=\"#m59d7fceeb9\" y=\"224.64\"/>\n      </g>\n     </g>\n     <g id=\"text_7\">\n      <!-- 10.0 -->\n      <g transform=\"translate(281.418099 239.238437)scale(0.1 -0.1)\">\n       <defs>\n        <path d=\"M 12.40625 8.296875 \nL 28.515625 8.296875 \nL 28.515625 63.921875 \nL 10.984375 60.40625 \nL 10.984375 69.390625 \nL 28.421875 72.90625 \nL 38.28125 72.90625 \nL 38.28125 8.296875 \nL 54.390625 8.296875 \nL 54.390625 0 \nL 12.40625 0 \nz\n\" id=\"DejaVuSans-49\"/>\n       </defs>\n       <use xlink:href=\"#DejaVuSans-49\"/>\n       <use x=\"63.623047\" xlink:href=\"#DejaVuSans-48\"/>\n       <use x=\"127.246094\" xlink:href=\"#DejaVuSans-46\"/>\n       <use x=\"159.033203\" xlink:href=\"#DejaVuSans-48\"/>\n      </g>\n     </g>\n    </g>\n    <g id=\"xtick_8\">\n     <g id=\"line2d_8\">\n      <g>\n       <use style=\"stroke:#000000;stroke-width:0.8;\" x=\"330.271835\" xlink:href=\"#m59d7fceeb9\" y=\"224.64\"/>\n      </g>\n     </g>\n     <g id=\"text_8\">\n      <!-- 12.5 -->\n      <g transform=\"translate(319.139023 239.238437)scale(0.1 -0.1)\">\n       <use xlink:href=\"#DejaVuSans-49\"/>\n       <use x=\"63.623047\" xlink:href=\"#DejaVuSans-50\"/>\n       <use x=\"127.246094\" xlink:href=\"#DejaVuSans-46\"/>\n       <use x=\"159.033203\" xlink:href=\"#DejaVuSans-53\"/>\n      </g>\n     </g>\n    </g>\n   </g>\n   <g id=\"matplotlib.axis_2\">\n    <g id=\"ytick_1\">\n     <g id=\"line2d_9\">\n      <defs>\n       <path d=\"M 0 0 \nL -3.5 0 \n\" id=\"m6822c6376a\" style=\"stroke:#000000;stroke-width:0.8;\"/>\n      </defs>\n      <g>\n       <use style=\"stroke:#000000;stroke-width:0.8;\" x=\"28.942188\" xlink:href=\"#m6822c6376a\" y=\"210.264556\"/>\n      </g>\n     </g>\n     <g id=\"text_9\">\n      <!-- −4 -->\n      <g transform=\"translate(7.2 214.063775)scale(0.1 -0.1)\">\n       <defs>\n        <path d=\"M 37.796875 64.3125 \nL 12.890625 25.390625 \nL 37.796875 25.390625 \nz\nM 35.203125 72.90625 \nL 47.609375 72.90625 \nL 47.609375 25.390625 \nL 58.015625 25.390625 \nL 58.015625 17.1875 \nL 47.609375 17.1875 \nL 47.609375 0 \nL 37.796875 0 \nL 37.796875 17.1875 \nL 4.890625 17.1875 \nL 4.890625 26.703125 \nz\n\" id=\"DejaVuSans-52\"/>\n       </defs>\n       <use xlink:href=\"#DejaVuSans-8722\"/>\n       <use x=\"83.789062\" xlink:href=\"#DejaVuSans-52\"/>\n      </g>\n     </g>\n    </g>\n    <g id=\"ytick_2\">\n     <g id=\"line2d_10\">\n      <g>\n       <use style=\"stroke:#000000;stroke-width:0.8;\" x=\"28.942188\" xlink:href=\"#m6822c6376a\" y=\"180.087817\"/>\n      </g>\n     </g>\n     <g id=\"text_10\">\n      <!-- −2 -->\n      <g transform=\"translate(7.2 183.887036)scale(0.1 -0.1)\">\n       <use xlink:href=\"#DejaVuSans-8722\"/>\n       <use x=\"83.789062\" xlink:href=\"#DejaVuSans-50\"/>\n      </g>\n     </g>\n    </g>\n    <g id=\"ytick_3\">\n     <g id=\"line2d_11\">\n      <g>\n       <use style=\"stroke:#000000;stroke-width:0.8;\" x=\"28.942188\" xlink:href=\"#m6822c6376a\" y=\"149.911079\"/>\n      </g>\n     </g>\n     <g id=\"text_11\">\n      <!-- 0 -->\n      <g transform=\"translate(15.579688 153.710297)scale(0.1 -0.1)\">\n       <use xlink:href=\"#DejaVuSans-48\"/>\n      </g>\n     </g>\n    </g>\n    <g id=\"ytick_4\">\n     <g id=\"line2d_12\">\n      <g>\n       <use style=\"stroke:#000000;stroke-width:0.8;\" x=\"28.942188\" xlink:href=\"#m6822c6376a\" y=\"119.73434\"/>\n      </g>\n     </g>\n     <g id=\"text_12\">\n      <!-- 2 -->\n      <g transform=\"translate(15.579688 123.533559)scale(0.1 -0.1)\">\n       <use xlink:href=\"#DejaVuSans-50\"/>\n      </g>\n     </g>\n    </g>\n    <g id=\"ytick_5\">\n     <g id=\"line2d_13\">\n      <g>\n       <use style=\"stroke:#000000;stroke-width:0.8;\" x=\"28.942188\" xlink:href=\"#m6822c6376a\" y=\"89.557601\"/>\n      </g>\n     </g>\n     <g id=\"text_13\">\n      <!-- 4 -->\n      <g transform=\"translate(15.579688 93.35682)scale(0.1 -0.1)\">\n       <use xlink:href=\"#DejaVuSans-52\"/>\n      </g>\n     </g>\n    </g>\n    <g id=\"ytick_6\">\n     <g id=\"line2d_14\">\n      <g>\n       <use style=\"stroke:#000000;stroke-width:0.8;\" x=\"28.942188\" xlink:href=\"#m6822c6376a\" y=\"59.380862\"/>\n      </g>\n     </g>\n     <g id=\"text_14\">\n      <!-- 6 -->\n      <g transform=\"translate(15.579688 63.180081)scale(0.1 -0.1)\">\n       <defs>\n        <path d=\"M 33.015625 40.375 \nQ 26.375 40.375 22.484375 35.828125 \nQ 18.609375 31.296875 18.609375 23.390625 \nQ 18.609375 15.53125 22.484375 10.953125 \nQ 26.375 6.390625 33.015625 6.390625 \nQ 39.65625 6.390625 43.53125 10.953125 \nQ 47.40625 15.53125 47.40625 23.390625 \nQ 47.40625 31.296875 43.53125 35.828125 \nQ 39.65625 40.375 33.015625 40.375 \nz\nM 52.59375 71.296875 \nL 52.59375 62.3125 \nQ 48.875 64.0625 45.09375 64.984375 \nQ 41.3125 65.921875 37.59375 65.921875 \nQ 27.828125 65.921875 22.671875 59.328125 \nQ 17.53125 52.734375 16.796875 39.40625 \nQ 19.671875 43.65625 24.015625 45.921875 \nQ 28.375 48.1875 33.59375 48.1875 \nQ 44.578125 48.1875 50.953125 41.515625 \nQ 57.328125 34.859375 57.328125 23.390625 \nQ 57.328125 12.15625 50.6875 5.359375 \nQ 44.046875 -1.421875 33.015625 -1.421875 \nQ 20.359375 -1.421875 13.671875 8.265625 \nQ 6.984375 17.96875 6.984375 36.375 \nQ 6.984375 53.65625 15.1875 63.9375 \nQ 23.390625 74.21875 37.203125 74.21875 \nQ 40.921875 74.21875 44.703125 73.484375 \nQ 48.484375 72.75 52.59375 71.296875 \nz\n\" id=\"DejaVuSans-54\"/>\n       </defs>\n       <use xlink:href=\"#DejaVuSans-54\"/>\n      </g>\n     </g>\n    </g>\n    <g id=\"ytick_7\">\n     <g id=\"line2d_15\">\n      <g>\n       <use style=\"stroke:#000000;stroke-width:0.8;\" x=\"28.942188\" xlink:href=\"#m6822c6376a\" y=\"29.204123\"/>\n      </g>\n     </g>\n     <g id=\"text_15\">\n      <!-- 8 -->\n      <g transform=\"translate(15.579688 33.003342)scale(0.1 -0.1)\">\n       <defs>\n        <path d=\"M 31.78125 34.625 \nQ 24.75 34.625 20.71875 30.859375 \nQ 16.703125 27.09375 16.703125 20.515625 \nQ 16.703125 13.921875 20.71875 10.15625 \nQ 24.75 6.390625 31.78125 6.390625 \nQ 38.8125 6.390625 42.859375 10.171875 \nQ 46.921875 13.96875 46.921875 20.515625 \nQ 46.921875 27.09375 42.890625 30.859375 \nQ 38.875 34.625 31.78125 34.625 \nz\nM 21.921875 38.8125 \nQ 15.578125 40.375 12.03125 44.71875 \nQ 8.5 49.078125 8.5 55.328125 \nQ 8.5 64.0625 14.71875 69.140625 \nQ 20.953125 74.21875 31.78125 74.21875 \nQ 42.671875 74.21875 48.875 69.140625 \nQ 55.078125 64.0625 55.078125 55.328125 \nQ 55.078125 49.078125 51.53125 44.71875 \nQ 48 40.375 41.703125 38.8125 \nQ 48.828125 37.15625 52.796875 32.3125 \nQ 56.78125 27.484375 56.78125 20.515625 \nQ 56.78125 9.90625 50.3125 4.234375 \nQ 43.84375 -1.421875 31.78125 -1.421875 \nQ 19.734375 -1.421875 13.25 4.234375 \nQ 6.78125 9.90625 6.78125 20.515625 \nQ 6.78125 27.484375 10.78125 32.3125 \nQ 14.796875 37.15625 21.921875 38.8125 \nz\nM 18.3125 54.390625 \nQ 18.3125 48.734375 21.84375 45.5625 \nQ 25.390625 42.390625 31.78125 42.390625 \nQ 38.140625 42.390625 41.71875 45.5625 \nQ 45.3125 48.734375 45.3125 54.390625 \nQ 45.3125 60.0625 41.71875 63.234375 \nQ 38.140625 66.40625 31.78125 66.40625 \nQ 25.390625 66.40625 21.84375 63.234375 \nQ 18.3125 60.0625 18.3125 54.390625 \nz\n\" id=\"DejaVuSans-56\"/>\n       </defs>\n       <use xlink:href=\"#DejaVuSans-56\"/>\n      </g>\n     </g>\n    </g>\n   </g>\n   <g id=\"patch_3\">\n    <path d=\"M 28.942188 224.64 \nL 28.942188 7.2 \n\" style=\"fill:none;stroke:#000000;stroke-linecap:square;stroke-linejoin:miter;stroke-width:0.8;\"/>\n   </g>\n   <g id=\"patch_4\">\n    <path d=\"M 363.742188 224.64 \nL 363.742188 7.2 \n\" style=\"fill:none;stroke:#000000;stroke-linecap:square;stroke-linejoin:miter;stroke-width:0.8;\"/>\n   </g>\n   <g id=\"patch_5\">\n    <path d=\"M 28.942187 224.64 \nL 363.742188 224.64 \n\" style=\"fill:none;stroke:#000000;stroke-linecap:square;stroke-linejoin:miter;stroke-width:0.8;\"/>\n   </g>\n   <g id=\"patch_6\">\n    <path d=\"M 28.942187 7.2 \nL 363.742188 7.2 \n\" style=\"fill:none;stroke:#000000;stroke-linecap:square;stroke-linejoin:miter;stroke-width:0.8;\"/>\n   </g>\n  </g>\n </g>\n <defs>\n  <clipPath id=\"p82f11a0fba\">\n   <rect height=\"217.44\" width=\"334.8\" x=\"28.942188\" y=\"7.2\"/>\n  </clipPath>\n </defs>\n</svg>\n",
      "image/png": "[encoded data removed]"
     },
     "metadata": {
      "needs_background": "light"
     }
    }
   ],
   "source": [
    "prob_inclusion_any = 0.0005\n",
    "prob_inclusion_within = 0.001\n",
    "center_quantile = 0.2\n",
    "delta_quantile = 0.1\n",
    "top_quantile = min(1, center_quantile + delta_quantile * 0.5)\n",
    "bottom_quantile = max(0, center_quantile - delta_quantile * 0.5)\n",
    "\n",
    "df_cloud = df_cloud.loc[\n",
    "    ((df_cloud['z'].apply(lambda x: rand() <= prob_inclusion_any)) | \n",
    "    ((df_cloud['z'].apply(lambda x: rand() <= prob_inclusion_within)) &\n",
    "    (df_cloud['z'] < df_cloud['z'].quantile(top_quantile)) & \n",
    "    (df_cloud['z'] > df_cloud['z'].quantile(bottom_quantile)))) &\n",
    "    (df_cloud['x'] > -7) &\n",
    "    (df_cloud['x'] < 10) &\n",
    "    (df_cloud['y'] > -15) &\n",
    "    (df_cloud['y'] < 8), :] \n",
    "df_sliced = df_cloud.iloc[::100, :]\n",
    "plt.scatter(-df_sliced['y'], df_sliced['x'], 0.1)\n",
    "plt.axis('equal')\n",
    "plt.plot()"
   ]
  },
  {
   "cell_type": "code",
   "execution_count": 18,
   "metadata": {},
   "outputs": [
    {
     "output_type": "execute_result",
     "data": {
      "text/plain": [
       "                            time       x       y       z     color   type\n",
       "722   2021-02-05 17:41:15.158890  0.6893 -1.3559  0.7291  0.945098  cloud\n",
       "1125  2021-02-05 17:41:15.161060  0.7889 -1.3583  0.9560  0.878431  cloud\n",
       "3950  2021-02-05 17:41:15.170730  1.3743 -0.4544  2.6123  0.254902  cloud\n",
       "5859  2021-02-05 17:41:15.178990  0.7412  0.6641  2.5953  0.913725  cloud\n",
       "9653  2021-02-05 17:41:15.194730  0.5597  2.6739  1.3621  0.870588  cloud\n",
       "9910  2021-02-05 17:41:15.195270 -0.2786  4.6806  2.5975  0.388235  cloud\n",
       "10214 2021-02-05 17:41:15.195900 -0.4474  5.4026  2.5874  0.333333  cloud\n",
       "13715 2021-02-05 17:41:15.258270  0.5825 -1.7616  0.8504  0.952941  cloud\n",
       "15051 2021-02-05 17:41:15.265360  1.9499 -1.3937  2.4652  0.886275  cloud\n",
       "23322 2021-02-05 17:41:15.293810 -0.9082  5.9995  2.2515  0.466667  cloud"
      ],
      "text/html": "<div>\n<style scoped>\n    .dataframe tbody tr th:only-of-type {\n        vertical-align: middle;\n    }\n\n    .dataframe tbody tr th {\n        vertical-align: top;\n    }\n\n    .dataframe thead th {\n        text-align: right;\n    }\n</style>\n<table border=\"1\" class=\"dataframe\">\n  <thead>\n    <tr style=\"text-align: right;\">\n      <th></th>\n      <th>time</th>\n      <th>x</th>\n      <th>y</th>\n      <th>z</th>\n      <th>color</th>\n      <th>type</th>\n    </tr>\n  </thead>\n  <tbody>\n    <tr>\n      <th>722</th>\n      <td>2021-02-05 17:41:15.158890</td>\n      <td>0.6893</td>\n      <td>-1.3559</td>\n      <td>0.7291</td>\n      <td>0.945098</td>\n      <td>cloud</td>\n    </tr>\n    <tr>\n      <th>1125</th>\n      <td>2021-02-05 17:41:15.161060</td>\n      <td>0.7889</td>\n      <td>-1.3583</td>\n      <td>0.9560</td>\n      <td>0.878431</td>\n      <td>cloud</td>\n    </tr>\n    <tr>\n      <th>3950</th>\n      <td>2021-02-05 17:41:15.170730</td>\n      <td>1.3743</td>\n      <td>-0.4544</td>\n      <td>2.6123</td>\n      <td>0.254902</td>\n      <td>cloud</td>\n    </tr>\n    <tr>\n      <th>5859</th>\n      <td>2021-02-05 17:41:15.178990</td>\n      <td>0.7412</td>\n      <td>0.6641</td>\n      <td>2.5953</td>\n      <td>0.913725</td>\n      <td>cloud</td>\n    </tr>\n    <tr>\n      <th>9653</th>\n      <td>2021-02-05 17:41:15.194730</td>\n      <td>0.5597</td>\n      <td>2.6739</td>\n      <td>1.3621</td>\n      <td>0.870588</td>\n      <td>cloud</td>\n    </tr>\n    <tr>\n      <th>9910</th>\n      <td>2021-02-05 17:41:15.195270</td>\n      <td>-0.2786</td>\n      <td>4.6806</td>\n      <td>2.5975</td>\n      <td>0.388235</td>\n      <td>cloud</td>\n    </tr>\n    <tr>\n      <th>10214</th>\n      <td>2021-02-05 17:41:15.195900</td>\n      <td>-0.4474</td>\n      <td>5.4026</td>\n      <td>2.5874</td>\n      <td>0.333333</td>\n      <td>cloud</td>\n    </tr>\n    <tr>\n      <th>13715</th>\n      <td>2021-02-05 17:41:15.258270</td>\n      <td>0.5825</td>\n      <td>-1.7616</td>\n      <td>0.8504</td>\n      <td>0.952941</td>\n      <td>cloud</td>\n    </tr>\n    <tr>\n      <th>15051</th>\n      <td>2021-02-05 17:41:15.265360</td>\n      <td>1.9499</td>\n      <td>-1.3937</td>\n      <td>2.4652</td>\n      <td>0.886275</td>\n      <td>cloud</td>\n    </tr>\n    <tr>\n      <th>23322</th>\n      <td>2021-02-05 17:41:15.293810</td>\n      <td>-0.9082</td>\n      <td>5.9995</td>\n      <td>2.2515</td>\n      <td>0.466667</td>\n      <td>cloud</td>\n    </tr>\n  </tbody>\n</table>\n</div>"
     },
     "metadata": {},
     "execution_count": 18
    }
   ],
   "source": [
    "df_cloud['time'] = df_cloud['time'].apply(lambda x: datetime.fromtimestamp(x))\n",
    "df_cloud['color'] = df_cloud.apply(lambda x: 1 - (x['r'] + x['g'] + x['b']) / 255 / 3, axis=1)\n",
    "df_cloud['type'] = df_cloud['time'].apply(lambda x: 'cloud')\n",
    "df_cloud = df_cloud.drop(['r','g','b'], axis=1)\n",
    "df_cloud.iloc[:10,:]"
   ]
  },
  {
   "cell_type": "code",
   "execution_count": 19,
   "metadata": {},
   "outputs": [
    {
     "output_type": "execute_result",
     "data": {
      "text/plain": [
       "           time         x         y         z        q0        q1        q2  \\\n",
       "0  1.612543e+09 -0.021289 -0.007929  0.009596  0.692996  0.139048 -0.133375   \n",
       "1  1.612543e+09 -0.021389 -0.008091  0.009477  0.693018  0.139075 -0.133316   \n",
       "2  1.612543e+09 -0.021495 -0.008259  0.009353  0.693036  0.139095 -0.133289   \n",
       "3  1.612543e+09 -0.021608 -0.008429  0.009228  0.693030  0.139084 -0.133310   \n",
       "4  1.612543e+09 -0.021722 -0.008594  0.009100  0.693009  0.139056 -0.133324   \n",
       "5  1.612543e+09 -0.021836 -0.008764  0.008969  0.693010  0.139013 -0.133379   \n",
       "6  1.612543e+09 -0.021934 -0.008939  0.008834  0.692996  0.139032 -0.133408   \n",
       "7  1.612543e+09 -0.022027 -0.009113  0.008696  0.693004  0.139046 -0.133418   \n",
       "8  1.612543e+09 -0.022114 -0.009276  0.008556  0.693013  0.139062 -0.133395   \n",
       "9  1.612543e+09 -0.022198 -0.009431  0.008412  0.693006  0.139077 -0.133329   \n",
       "\n",
       "         q3  userfields  \n",
       "0  0.694718         NaN  \n",
       "1  0.694703         NaN  \n",
       "2  0.694686         NaN  \n",
       "3  0.694689         NaN  \n",
       "4  0.694714         NaN  \n",
       "5  0.694710         NaN  \n",
       "6  0.694715         NaN  \n",
       "7  0.694702         NaN  \n",
       "8  0.694695         NaN  \n",
       "9  0.694711         NaN  "
      ],
      "text/html": "<div>\n<style scoped>\n    .dataframe tbody tr th:only-of-type {\n        vertical-align: middle;\n    }\n\n    .dataframe tbody tr th {\n        vertical-align: top;\n    }\n\n    .dataframe thead th {\n        text-align: right;\n    }\n</style>\n<table border=\"1\" class=\"dataframe\">\n  <thead>\n    <tr style=\"text-align: right;\">\n      <th></th>\n      <th>time</th>\n      <th>x</th>\n      <th>y</th>\n      <th>z</th>\n      <th>q0</th>\n      <th>q1</th>\n      <th>q2</th>\n      <th>q3</th>\n      <th>userfields</th>\n    </tr>\n  </thead>\n  <tbody>\n    <tr>\n      <th>0</th>\n      <td>1.612543e+09</td>\n      <td>-0.021289</td>\n      <td>-0.007929</td>\n      <td>0.009596</td>\n      <td>0.692996</td>\n      <td>0.139048</td>\n      <td>-0.133375</td>\n      <td>0.694718</td>\n      <td>NaN</td>\n    </tr>\n    <tr>\n      <th>1</th>\n      <td>1.612543e+09</td>\n      <td>-0.021389</td>\n      <td>-0.008091</td>\n      <td>0.009477</td>\n      <td>0.693018</td>\n      <td>0.139075</td>\n      <td>-0.133316</td>\n      <td>0.694703</td>\n      <td>NaN</td>\n    </tr>\n    <tr>\n      <th>2</th>\n      <td>1.612543e+09</td>\n      <td>-0.021495</td>\n      <td>-0.008259</td>\n      <td>0.009353</td>\n      <td>0.693036</td>\n      <td>0.139095</td>\n      <td>-0.133289</td>\n      <td>0.694686</td>\n      <td>NaN</td>\n    </tr>\n    <tr>\n      <th>3</th>\n      <td>1.612543e+09</td>\n      <td>-0.021608</td>\n      <td>-0.008429</td>\n      <td>0.009228</td>\n      <td>0.693030</td>\n      <td>0.139084</td>\n      <td>-0.133310</td>\n      <td>0.694689</td>\n      <td>NaN</td>\n    </tr>\n    <tr>\n      <th>4</th>\n      <td>1.612543e+09</td>\n      <td>-0.021722</td>\n      <td>-0.008594</td>\n      <td>0.009100</td>\n      <td>0.693009</td>\n      <td>0.139056</td>\n      <td>-0.133324</td>\n      <td>0.694714</td>\n      <td>NaN</td>\n    </tr>\n    <tr>\n      <th>5</th>\n      <td>1.612543e+09</td>\n      <td>-0.021836</td>\n      <td>-0.008764</td>\n      <td>0.008969</td>\n      <td>0.693010</td>\n      <td>0.139013</td>\n      <td>-0.133379</td>\n      <td>0.694710</td>\n      <td>NaN</td>\n    </tr>\n    <tr>\n      <th>6</th>\n      <td>1.612543e+09</td>\n      <td>-0.021934</td>\n      <td>-0.008939</td>\n      <td>0.008834</td>\n      <td>0.692996</td>\n      <td>0.139032</td>\n      <td>-0.133408</td>\n      <td>0.694715</td>\n      <td>NaN</td>\n    </tr>\n    <tr>\n      <th>7</th>\n      <td>1.612543e+09</td>\n      <td>-0.022027</td>\n      <td>-0.009113</td>\n      <td>0.008696</td>\n      <td>0.693004</td>\n      <td>0.139046</td>\n      <td>-0.133418</td>\n      <td>0.694702</td>\n      <td>NaN</td>\n    </tr>\n    <tr>\n      <th>8</th>\n      <td>1.612543e+09</td>\n      <td>-0.022114</td>\n      <td>-0.009276</td>\n      <td>0.008556</td>\n      <td>0.693013</td>\n      <td>0.139062</td>\n      <td>-0.133395</td>\n      <td>0.694695</td>\n      <td>NaN</td>\n    </tr>\n    <tr>\n      <th>9</th>\n      <td>1.612543e+09</td>\n      <td>-0.022198</td>\n      <td>-0.009431</td>\n      <td>0.008412</td>\n      <td>0.693006</td>\n      <td>0.139077</td>\n      <td>-0.133329</td>\n      <td>0.694711</td>\n      <td>NaN</td>\n    </tr>\n  </tbody>\n</table>\n</div>"
     },
     "metadata": {},
     "execution_count": 19
    }
   ],
   "source": [
    "df_traj = pd.read_csv('data/traj.csv')\n",
    "df_traj.iloc[:10,:]"
   ]
  },
  {
   "cell_type": "code",
   "execution_count": 20,
   "metadata": {},
   "outputs": [
    {
     "output_type": "execute_result",
     "data": {
      "text/plain": [
       "                        time         x         y         z  type      roll  \\\n",
       "0 2021-02-05 17:41:14.494820 -0.021289 -0.007929  0.009596  traj  1.569885   \n",
       "1 2021-02-05 17:41:14.506680 -0.021389 -0.008091  0.009477  traj  1.569965   \n",
       "2 2021-02-05 17:41:14.512600 -0.021495 -0.008259  0.009353  traj  1.570031   \n",
       "3 2021-02-05 17:41:14.524690 -0.021608 -0.008429  0.009228  traj  1.570009   \n",
       "4 2021-02-05 17:41:14.536660 -0.021722 -0.008594  0.009100  traj  1.569927   \n",
       "5 2021-02-05 17:41:14.542750 -0.021836 -0.008764  0.008969  traj  1.569906   \n",
       "6 2021-02-05 17:41:14.554730 -0.021934 -0.008939  0.008834  traj  1.569874   \n",
       "7 2021-02-05 17:41:14.566650 -0.022027 -0.009113  0.008696  traj  1.569907   \n",
       "8 2021-02-05 17:41:14.572650 -0.022114 -0.009276  0.008556  traj  1.569943   \n",
       "9 2021-02-05 17:41:14.584670 -0.022198 -0.009431  0.008412  traj  1.569932   \n",
       "\n",
       "      pitch       yaw  \n",
       "0  0.387694  0.007998  \n",
       "1  0.387648  0.008137  \n",
       "2  0.387638  0.008217  \n",
       "3  0.387653  0.008168  \n",
       "4  0.387632  0.008090  \n",
       "5  0.387651  0.007945  \n",
       "6  0.387718  0.007925  \n",
       "7  0.387753  0.007938  \n",
       "8  0.387744  0.008000  \n",
       "9  0.387670  0.008115  "
      ],
      "text/html": "<div>\n<style scoped>\n    .dataframe tbody tr th:only-of-type {\n        vertical-align: middle;\n    }\n\n    .dataframe tbody tr th {\n        vertical-align: top;\n    }\n\n    .dataframe thead th {\n        text-align: right;\n    }\n</style>\n<table border=\"1\" class=\"dataframe\">\n  <thead>\n    <tr style=\"text-align: right;\">\n      <th></th>\n      <th>time</th>\n      <th>x</th>\n      <th>y</th>\n      <th>z</th>\n      <th>type</th>\n      <th>roll</th>\n      <th>pitch</th>\n      <th>yaw</th>\n    </tr>\n  </thead>\n  <tbody>\n    <tr>\n      <th>0</th>\n      <td>2021-02-05 17:41:14.494820</td>\n      <td>-0.021289</td>\n      <td>-0.007929</td>\n      <td>0.009596</td>\n      <td>traj</td>\n      <td>1.569885</td>\n      <td>0.387694</td>\n      <td>0.007998</td>\n    </tr>\n    <tr>\n      <th>1</th>\n      <td>2021-02-05 17:41:14.506680</td>\n      <td>-0.021389</td>\n      <td>-0.008091</td>\n      <td>0.009477</td>\n      <td>traj</td>\n      <td>1.569965</td>\n      <td>0.387648</td>\n      <td>0.008137</td>\n    </tr>\n    <tr>\n      <th>2</th>\n      <td>2021-02-05 17:41:14.512600</td>\n      <td>-0.021495</td>\n      <td>-0.008259</td>\n      <td>0.009353</td>\n      <td>traj</td>\n      <td>1.570031</td>\n      <td>0.387638</td>\n      <td>0.008217</td>\n    </tr>\n    <tr>\n      <th>3</th>\n      <td>2021-02-05 17:41:14.524690</td>\n      <td>-0.021608</td>\n      <td>-0.008429</td>\n      <td>0.009228</td>\n      <td>traj</td>\n      <td>1.570009</td>\n      <td>0.387653</td>\n      <td>0.008168</td>\n    </tr>\n    <tr>\n      <th>4</th>\n      <td>2021-02-05 17:41:14.536660</td>\n      <td>-0.021722</td>\n      <td>-0.008594</td>\n      <td>0.009100</td>\n      <td>traj</td>\n      <td>1.569927</td>\n      <td>0.387632</td>\n      <td>0.008090</td>\n    </tr>\n    <tr>\n      <th>5</th>\n      <td>2021-02-05 17:41:14.542750</td>\n      <td>-0.021836</td>\n      <td>-0.008764</td>\n      <td>0.008969</td>\n      <td>traj</td>\n      <td>1.569906</td>\n      <td>0.387651</td>\n      <td>0.007945</td>\n    </tr>\n    <tr>\n      <th>6</th>\n      <td>2021-02-05 17:41:14.554730</td>\n      <td>-0.021934</td>\n      <td>-0.008939</td>\n      <td>0.008834</td>\n      <td>traj</td>\n      <td>1.569874</td>\n      <td>0.387718</td>\n      <td>0.007925</td>\n    </tr>\n    <tr>\n      <th>7</th>\n      <td>2021-02-05 17:41:14.566650</td>\n      <td>-0.022027</td>\n      <td>-0.009113</td>\n      <td>0.008696</td>\n      <td>traj</td>\n      <td>1.569907</td>\n      <td>0.387753</td>\n      <td>0.007938</td>\n    </tr>\n    <tr>\n      <th>8</th>\n      <td>2021-02-05 17:41:14.572650</td>\n      <td>-0.022114</td>\n      <td>-0.009276</td>\n      <td>0.008556</td>\n      <td>traj</td>\n      <td>1.569943</td>\n      <td>0.387744</td>\n      <td>0.008000</td>\n    </tr>\n    <tr>\n      <th>9</th>\n      <td>2021-02-05 17:41:14.584670</td>\n      <td>-0.022198</td>\n      <td>-0.009431</td>\n      <td>0.008412</td>\n      <td>traj</td>\n      <td>1.569932</td>\n      <td>0.387670</td>\n      <td>0.008115</td>\n    </tr>\n  </tbody>\n</table>\n</div>"
     },
     "metadata": {},
     "execution_count": 20
    }
   ],
   "source": [
    "df_traj['time'] = df_traj['time'].apply(lambda x: datetime.fromtimestamp(x))\n",
    "df_traj['type'] = df_traj['time'].apply(lambda x: 'traj')\n",
    "df_traj[['roll','pitch','yaw']] = df_traj.apply(lambda row: euler_from_quaternion(\n",
    "    row['q0'],\n",
    "    row['q1'],\n",
    "    row['q2'],\n",
    "    row['q3']), axis=1, result_type=\"expand\")\n",
    "df_traj = df_traj.drop(['q0','q1','q2','q3','userfields'], axis=1)\n",
    "df_traj.iloc[:10,:]"
   ]
  },
  {
   "cell_type": "code",
   "execution_count": 21,
   "metadata": {},
   "outputs": [],
   "source": [
    "df_traj = df_traj.iloc[::int(df_traj.shape[0]/2000),:]"
   ]
  },
  {
   "cell_type": "code",
   "execution_count": 22,
   "metadata": {},
   "outputs": [],
   "source": [
    "def rotate(x, y, angle):\n",
    "    c = np.cos(angle)\n",
    "    s = np.sin(angle)\n",
    "    return (x * c - y * s, x * s + y * c)"
   ]
  },
  {
   "cell_type": "code",
   "execution_count": 23,
   "metadata": {},
   "outputs": [
    {
     "output_type": "stream",
     "name": "stdout",
     "text": [
      "2000-01-01 00:00:00\n2000-01-01 00:04:07.629600\n"
     ]
    }
   ],
   "source": [
    "ROTATION_ANGLE = 2 / 180 * np.pi\n",
    "\n",
    "df = pd.concat([df_cloud, df_traj], axis=0)\n",
    "df[['x','y']] = df.apply(lambda row: rotate(row['x'], row['y'], ROTATION_ANGLE), axis=1, result_type=\"expand\")\n",
    "df['time'] = df['time'] - df['time'].min() + datetime(2000, 1, 1)\n",
    "print(df['time'].min())\n",
    "print(df['time'].max())\n",
    "df.set_index(['time','type'], inplace=True)"
   ]
  },
  {
   "cell_type": "code",
   "execution_count": 24,
   "metadata": {},
   "outputs": [],
   "source": [
    "df.to_csv('data/cleaned.csv')"
   ]
  }
 ],
 "metadata": {
  "kernelspec": {
   "display_name": ".venv",
   "language": "python",
   "name": ".venv"
  },
  "language_info": {
   "codemirror_mode": {
    "name": "ipython",
    "version": 3
   },
   "file_extension": ".py",
   "mimetype": "text/x-python",
   "name": "python",
   "nbconvert_exporter": "python",
   "pygments_lexer": "ipython3",
   "version": "3.8.2-final"
  }
 },
 "nbformat": 4,
 "nbformat_minor": 5
}